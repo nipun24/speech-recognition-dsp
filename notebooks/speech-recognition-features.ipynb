{
  "nbformat": 4,
  "nbformat_minor": 0,
  "metadata": {
    "accelerator": "GPU",
    "colab": {
      "name": "assignment3.ipynb",
      "provenance": [],
      "collapsed_sections": []
    },
    "kernelspec": {
      "display_name": "Python 3",
      "language": "python",
      "name": "python3"
    },
    "language_info": {
      "codemirror_mode": {
        "name": "ipython",
        "version": 3
      },
      "file_extension": ".py",
      "mimetype": "text/x-python",
      "name": "python",
      "nbconvert_exporter": "python",
      "pygments_lexer": "ipython3",
      "version": "3.8.2"
    }
  },
  "cells": [
    {
      "cell_type": "markdown",
      "metadata": {
        "id": "P5vzy5JfasWw",
        "colab_type": "text"
      },
      "source": [
        "# DSP Assignment\n",
        "Name: Nipun Haldar\n",
        "\n",
        "Roll Number: ECE16U014\n",
        "\n",
        "\n",
        "**Note: The following code was run on *Google Colab* to get fast runtimes**"
      ]
    },
    {
      "cell_type": "code",
      "metadata": {
        "id": "wwFGxQDxbNQA",
        "colab_type": "code",
        "colab": {
          "base_uri": "https://localhost:8080/",
          "height": 34
        },
        "outputId": "0f7c6d0d-4b9f-44f5-9c64-6a9e87aaae75"
      },
      "source": [
        "from google.colab import drive\n",
        "drive.mount('/content/drive')"
      ],
      "execution_count": 15,
      "outputs": [
        {
          "output_type": "stream",
          "text": [
            "Drive already mounted at /content/drive; to attempt to forcibly remount, call drive.mount(\"/content/drive\", force_remount=True).\n"
          ],
          "name": "stdout"
        }
      ]
    },
    {
      "cell_type": "code",
      "metadata": {
        "colab_type": "code",
        "id": "huB8LEP4FJzN",
        "colab": {}
      },
      "source": [
        "# libraries to handle data\n",
        "import os\n",
        "import numpy as np\n",
        "import csv\n",
        "import pandas as pd\n",
        "\n",
        "# library to extract audio features\n",
        "import librosa\n",
        "\n",
        "# libraries for preprocessing data \n",
        "from sklearn.preprocessing import StandardScaler\n",
        "from sklearn.model_selection import train_test_split\n",
        "\n",
        "# library to build neural networks\n",
        "import tensorflow as tf"
      ],
      "execution_count": 0,
      "outputs": []
    },
    {
      "cell_type": "markdown",
      "metadata": {
        "id": "I9mKYcdLasW5",
        "colab_type": "text"
      },
      "source": [
        "### Extracting all features from audio and writing to csv file\n",
        "\n",
        "The following features are extracted\n",
        "* Mel-frequency cepstral coefficients (MFCC)(20 in number)\n",
        "* Spectral Centroid\n",
        "* Zero Crossing Rate\n",
        "* Chroma Frequencies\n",
        "* Spectral Roll-off\n",
        "* Root-Mean Square Energy\n",
        "\n",
        "The correspong **data.csv** has 2000 rows and 27 columns of all the features"
      ]
    },
    {
      "cell_type": "code",
      "metadata": {
        "colab_type": "code",
        "id": "sxCoP5-MFg8p",
        "colab": {}
      },
      "source": [
        "if os.path.exists('/content/drive/My Drive/data.csv'):\n",
        "    data = pd.read_csv('/content/drive/My Drive/data.csv')\n",
        "\n",
        "else:\n",
        "    cols = ['filename','chroma_stft','rms','spectral_centroid','spectral_bandwidth','rolloff','zero_crossing_rate']\n",
        "    for i in range(20):\n",
        "        cols.append(f'mfcc_{i}')\n",
        "    cols.append('label')\n",
        "    f = open('data.csv','w',newline='')\n",
        "    writer = csv.writer(f)\n",
        "    writer.writerow(cols)\n",
        "    f.close()\n",
        "    \n",
        "    for i in range(10):\n",
        "        path = f'/content/drive/My Drive/wavs/{i}'\n",
        "        fileList = os.listdir(path)\n",
        "        for j in fileList:\n",
        "            y, sr = librosa.load(f'{path}/{j}', mono=True)\n",
        "            chroma_stft = librosa.feature.chroma_stft(y=y, sr=sr)\n",
        "            rms = librosa.feature.rms(y)\n",
        "            spec_cent = librosa.feature.spectral_centroid(y=y, sr=sr)\n",
        "            spec_bw = librosa.feature.spectral_bandwidth(y=y, sr=sr)\n",
        "            rolloff = librosa.feature.spectral_rolloff(y=y, sr=sr)\n",
        "            zcr = librosa.feature.zero_crossing_rate(y)\n",
        "            mfcc = librosa.feature.mfcc(y=y, sr=sr)\n",
        "            row = [f'{j}',np.mean(chroma_stft),np.mean(rms),np.mean(spec_cent),np.mean(spec_bw),np.mean(rolloff),np.mean(zcr)]\n",
        "            for val in range(20):\n",
        "                row.append(np.mean(mfcc[val]))\n",
        "            row.append(i)\n",
        "            f = open('data.csv','a',newline='')\n",
        "            writer = csv.writer(f)\n",
        "            writer.writerow(row)\n",
        "            f.close()"
      ],
      "execution_count": 0,
      "outputs": []
    },
    {
      "cell_type": "markdown",
      "metadata": {
        "id": "tVboGietasW9",
        "colab_type": "text"
      },
      "source": [
        "### Analysing the data using pandas"
      ]
    },
    {
      "cell_type": "code",
      "metadata": {
        "id": "0fPmq0dEcJko",
        "colab_type": "code",
        "colab": {
          "base_uri": "https://localhost:8080/",
          "height": 34
        },
        "outputId": "a8b7f667-1759-40d6-c56c-8996c427c1b4"
      },
      "source": [
        "data.shape"
      ],
      "execution_count": 18,
      "outputs": [
        {
          "output_type": "execute_result",
          "data": {
            "text/plain": [
              "(2000, 28)"
            ]
          },
          "metadata": {
            "tags": []
          },
          "execution_count": 18
        }
      ]
    },
    {
      "cell_type": "code",
      "metadata": {
        "id": "IQPnYtAAcsF4",
        "colab_type": "code",
        "colab": {
          "base_uri": "https://localhost:8080/",
          "height": 153
        },
        "outputId": "63a78bcb-9481-4d72-e1b1-1c6a0819f497"
      },
      "source": [
        "# displaying only first five rows\n",
        "print(data.head())"
      ],
      "execution_count": 19,
      "outputs": [
        {
          "output_type": "stream",
          "text": [
            "       filename  chroma_stft       rms  ...   mfcc_18   mfcc_19  label\n",
            "0  zero_110.wav     0.419840  0.045476  ...  4.510585 -2.492918      0\n",
            "1  zero_100.wav     0.456254  0.041470  ...  3.379130 -0.600034      0\n",
            "2  zero_090.wav     0.455132  0.041122  ...  3.169573 -0.427649      0\n",
            "3  zero_080.wav     0.417892  0.039619  ...  0.475260 -3.052964      0\n",
            "4  zero_010.wav     0.355394  0.045962  ...  6.168610 -3.894580      0\n",
            "\n",
            "[5 rows x 28 columns]\n"
          ],
          "name": "stdout"
        }
      ]
    },
    {
      "cell_type": "code",
      "metadata": {
        "colab_type": "code",
        "id": "JhWWVxgXGABw",
        "colab": {}
      },
      "source": [
        "# Dropping unneccesary columns\n",
        "data = data.drop(['filename'],axis=1)"
      ],
      "execution_count": 0,
      "outputs": []
    },
    {
      "cell_type": "markdown",
      "metadata": {
        "id": "gjumX8WEc5ll",
        "colab_type": "text"
      },
      "source": [
        "### Feature Scaling\n",
        "Standardize features by removing the mean and scaling to unit variance\n",
        "\n",
        "The standard score of a sample ***x*** is calculated as:\n",
        "\n",
        "*z = (x - u) / s*\n",
        "\n",
        "where ***u*** is the mean of the training samples and ***s*** is the standard deviation of the training samples."
      ]
    },
    {
      "cell_type": "code",
      "metadata": {
        "colab_type": "code",
        "id": "LRxxrzPgOghc",
        "colab": {}
      },
      "source": [
        "scaler = StandardScaler()\n",
        "X = scaler.fit_transform(data.iloc[:, :-1])"
      ],
      "execution_count": 0,
      "outputs": []
    },
    {
      "cell_type": "markdown",
      "metadata": {
        "id": "VIQ0s-w1drpb",
        "colab_type": "text"
      },
      "source": [
        "### Type conversion\n",
        "Converting the pandas `DataFrame` to numpy array"
      ]
    },
    {
      "cell_type": "code",
      "metadata": {
        "colab_type": "code",
        "id": "nb85ZZptOj4k",
        "colab": {}
      },
      "source": [
        "y = data.iloc[:,-1].to_numpy()"
      ],
      "execution_count": 0,
      "outputs": []
    },
    {
      "cell_type": "markdown",
      "metadata": {
        "id": "adi4yrEPeAot",
        "colab_type": "text"
      },
      "source": [
        "### Splitting the data into Testing and Training set"
      ]
    },
    {
      "cell_type": "code",
      "metadata": {
        "colab_type": "code",
        "id": "b0tCMxucOnUa",
        "colab": {}
      },
      "source": [
        "X_train, X_test, y_train, y_test = train_test_split(X, y, test_size=0.2,random_state=42)"
      ],
      "execution_count": 0,
      "outputs": []
    },
    {
      "cell_type": "markdown",
      "metadata": {
        "id": "0-CXCKZfefkf",
        "colab_type": "text"
      },
      "source": [
        "### Building and Training the Neural Network\n",
        "A simple Artificial Neural Network (ANN) is used with 4 layers."
      ]
    },
    {
      "cell_type": "code",
      "metadata": {
        "colab_type": "code",
        "id": "0uOZcqCOOpkr",
        "colab": {}
      },
      "source": [
        "#stopping any tensorflow graphs running in background\n",
        "tf.keras.backend.clear_session()\n",
        "\n",
        "model = tf.keras.models.Sequential([\n",
        "    tf.keras.layers.Dense(256, activation='relu', input_shape=(X_train.shape[1],)),\n",
        "    tf.keras.layers.Dense(128, activation='relu'),\n",
        "    tf.keras.layers.Dense(64, activation='relu'),\n",
        "    tf.keras.layers.Dense(10, activation='softmax')\n",
        "])"
      ],
      "execution_count": 0,
      "outputs": []
    },
    {
      "cell_type": "code",
      "metadata": {
        "colab_type": "code",
        "id": "lJmEY5DfOroi",
        "colab": {}
      },
      "source": [
        "model.compile(optimizer='adam',\n",
        "              loss='sparse_categorical_crossentropy',\n",
        "              metrics=['accuracy'])"
      ],
      "execution_count": 0,
      "outputs": []
    },
    {
      "cell_type": "code",
      "metadata": {
        "colab_type": "code",
        "id": "RMahOdrkPS9z",
        "outputId": "b9af8be0-b637-4581-aeac-7076d55a448d",
        "colab": {
          "base_uri": "https://localhost:8080/",
          "height": 374
        }
      },
      "source": [
        "model.fit(X_train, y_train, epochs=10, batch_size=100)"
      ],
      "execution_count": 26,
      "outputs": [
        {
          "output_type": "stream",
          "text": [
            "Epoch 1/10\n",
            "16/16 [==============================] - 0s 2ms/step - loss: 1.9016 - accuracy: 0.4350\n",
            "Epoch 2/10\n",
            "16/16 [==============================] - 0s 2ms/step - loss: 0.9908 - accuracy: 0.7919\n",
            "Epoch 3/10\n",
            "16/16 [==============================] - 0s 2ms/step - loss: 0.3389 - accuracy: 0.9481\n",
            "Epoch 4/10\n",
            "16/16 [==============================] - 0s 2ms/step - loss: 0.1159 - accuracy: 0.9875\n",
            "Epoch 5/10\n",
            "16/16 [==============================] - 0s 2ms/step - loss: 0.0558 - accuracy: 0.9950\n",
            "Epoch 6/10\n",
            "16/16 [==============================] - 0s 2ms/step - loss: 0.0317 - accuracy: 0.9975\n",
            "Epoch 7/10\n",
            "16/16 [==============================] - 0s 2ms/step - loss: 0.0211 - accuracy: 0.9987\n",
            "Epoch 8/10\n",
            "16/16 [==============================] - 0s 2ms/step - loss: 0.0148 - accuracy: 1.0000\n",
            "Epoch 9/10\n",
            "16/16 [==============================] - 0s 2ms/step - loss: 0.0110 - accuracy: 1.0000\n",
            "Epoch 10/10\n",
            "16/16 [==============================] - 0s 2ms/step - loss: 0.0087 - accuracy: 1.0000\n"
          ],
          "name": "stdout"
        },
        {
          "output_type": "execute_result",
          "data": {
            "text/plain": [
              "<tensorflow.python.keras.callbacks.History at 0x7f3b1248ba90>"
            ]
          },
          "metadata": {
            "tags": []
          },
          "execution_count": 26
        }
      ]
    },
    {
      "cell_type": "markdown",
      "metadata": {
        "id": "dv7DD7NWfvLP",
        "colab_type": "text"
      },
      "source": [
        "### Evaluating the ANN\n",
        "The network has an accuracy of **100%**. This because the dataset is very small (only 2000 rows). For a larger dataset the network should converge around 98%."
      ]
    },
    {
      "cell_type": "code",
      "metadata": {
        "colab_type": "code",
        "id": "8MJbZ3GTPz0F",
        "outputId": "7f11bcdc-9d96-4d25-c352-891ccc5e843d",
        "colab": {
          "base_uri": "https://localhost:8080/",
          "height": 68
        }
      },
      "source": [
        "test_loss, test_acc = model.evaluate(X_test,y_test)\n",
        "print('accuracy: ',test_acc,'\\nloss: ',test_loss)"
      ],
      "execution_count": 27,
      "outputs": [
        {
          "output_type": "stream",
          "text": [
            "13/13 [==============================] - 0s 2ms/step - loss: 0.0175 - accuracy: 0.9975\n",
            "accuracy:  0.9975000023841858 \n",
            "loss:  0.017465932294726372\n"
          ],
          "name": "stdout"
        }
      ]
    },
    {
      "cell_type": "markdown",
      "metadata": {
        "id": "HmGsyHD8f0P1",
        "colab_type": "text"
      },
      "source": [
        "### Predicting...\n",
        "The model gives perfect predictions due to the fact mentioned above."
      ]
    },
    {
      "cell_type": "code",
      "metadata": {
        "colab_type": "code",
        "id": "ykCHTvskQXMr",
        "outputId": "ef2974ca-b1fe-4aa0-85a0-cb8b3259c5a2",
        "colab": {
          "base_uri": "https://localhost:8080/",
          "height": 85
        }
      },
      "source": [
        "predictions = model.predict(X_test)\n",
        "pred = np.argmax(predictions[4])\n",
        "actual = y_test[4]\n",
        "print('predicted value: ',pred,'\\nactial value: ',actual)\n",
        "pred = np.argmax(predictions[100])\n",
        "actual = y_test[100]\n",
        "print('predicted value: ',pred,'\\nactial value: ',actual)"
      ],
      "execution_count": 28,
      "outputs": [
        {
          "output_type": "stream",
          "text": [
            "predicted value:  6 \n",
            "actial value:  6\n",
            "predicted value:  4 \n",
            "actial value:  4\n"
          ],
          "name": "stdout"
        }
      ]
    }
  ]
}