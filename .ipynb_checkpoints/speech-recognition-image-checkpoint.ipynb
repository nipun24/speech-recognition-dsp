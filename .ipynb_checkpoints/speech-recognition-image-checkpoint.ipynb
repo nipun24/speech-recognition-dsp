{
 "cells": [
  {
   "cell_type": "markdown",
   "metadata": {},
   "source": [
    "# DSP Assignment\n",
    "Name: Nipun Haldar\n",
    "Roll Number: ECE16U014"
   ]
  },
  {
   "cell_type": "code",
   "execution_count": 0,
   "metadata": {
    "colab": {},
    "colab_type": "code",
    "id": "tmVkNupc-d8Y"
   },
   "outputs": [],
   "source": [
    "# libraries to handle data\n",
    "import os\n",
    "import numpy as np\n",
    "import pandas as pd\n",
    "from PIL import Image\n",
    "from zipfile import ZIP_LZMA as lzma\n",
    "from zipfile import ZipFile\n",
    "import librosa\n",
    "import librosa.display as disp\n",
    "from python_speech_features import mfcc\n",
    "import numpy as np\n",
    "import matplotlib.pyplot as plt \n",
    "\n",
    "# libraries for preprocessing data \n",
    "from sklearn.model_selection import train_test_split\n",
    "\n",
    "# library to build neural networks\n",
    "import tensorflow as tf"
   ]
  },
  {
   "cell_type": "markdown",
   "metadata": {},
   "source": [
    "### C"
   ]
  },
  {
   "cell_type": "code",
   "execution_count": 0,
   "metadata": {
    "colab": {},
    "colab_type": "code",
    "id": "wTf30WNUjb0s"
   },
   "outputs": [],
   "source": [
    "if os.path.exists('wavs'):\n",
    "  pass\n",
    "elif os.path.exists('wavs.zip'):\n",
    "  with ZipFile('wavs.zip', 'r') as zipObj:\n",
    "    zipObj.extractall()\n",
    "    zipObj.close()\n",
    "else:\n",
    "  raise Exception('wavs folder or zip no found!!')"
   ]
  },
  {
   "cell_type": "code",
   "execution_count": 0,
   "metadata": {
    "colab": {},
    "colab_type": "code",
    "id": "fysVAEy4jb00"
   },
   "outputs": [],
   "source": [
    "if os.path.exists('mfccpic'):\n",
    "    pass\n",
    "elif os.path.exists('mfccpic.zip'):\n",
    "    with ZipFile('mfccpic.zip', 'r') as zipObj:\n",
    "        zipObj.extractall()\n",
    "        zipObj.close()\n",
    "else:\n",
    "    os.mkdir('mfccpic')\n",
    "    for i in range(10):\n",
    "        os.mkdir(f'mfccpic/{i}')\n",
    "        path = f'wavs/{i}'\n",
    "        fileList = os.listdir(path)\n",
    "        for j in fileList:\n",
    "            wav, fs = librosa.load(f'wavs/{i}/{j}')\n",
    "            m = mfcc(wav, fs, nfft=1024, winfunc=np.hamming)\n",
    "            fig = plt.imshow(m, aspect='auto',cmap='plasma')\n",
    "            plt.axis('off')\n",
    "            plt.savefig(f'mfccpic/{i}/{j}.png',bbox_inches='tight',pad_inches = 0)\n",
    "            plt.clf()\n",
    "    zipObj = ZipFile('mfccpic.zip', 'w')\n",
    "    for i in range(10):\n",
    "        path = f'mfccpic/{i}'\n",
    "        fileList = os.listdir(path)\n",
    "        for j in fileList:\n",
    "            zipObj.write(f'{path}/{j}')\n",
    "    zipObj.close()"
   ]
  },
  {
   "cell_type": "code",
   "execution_count": 0,
   "metadata": {
    "colab": {},
    "colab_type": "code",
    "id": "-agufCXu-mfc"
   },
   "outputs": [],
   "source": [
    "if os.path.exists('imdata.csv'):\n",
    "  data = pd.read_csv('imdata.csv')\n",
    "\n",
    "elif os.path.exists('imdata.zip'):\n",
    "  with ZipFile('imdata.zip', 'r') as zipObj:\n",
    "    zipObj.extractall()\n",
    "  data = pd.read_csv('imdata.csv')\n",
    "\n",
    "else:\n",
    "  df = pd.DataFrame()\n",
    "  for i in range(10):\n",
    "    path = f'mfccpic/{i}'\n",
    "    fileList = os.listdir(path)\n",
    "    for j in fileList:\n",
    "      im = Image.open(f'{path}/{j}').resize((50,50)).convert('RGB')\n",
    "      arr = np.array(im).flatten()/255\n",
    "      arr = np.append(arr, i)\n",
    "      s = pd.Series(arr)\n",
    "      df = df.append(s, ignore_index=True)\n",
    "  df.rename(columns = {2500:'label'}, inplace = True)\n",
    "  df.to_csv('imdata.csv', index=False)\n",
    "  zipObj = ZipFile('imdata.zip', 'w', compression=lzma)\n",
    "  zipObj.write('imdata.csv')\n",
    "  zipObj.close()\n",
    "  data = pd.read_csv('imdata.csv')"
   ]
  },
  {
   "cell_type": "code",
   "execution_count": 0,
   "metadata": {
    "colab": {},
    "colab_type": "code",
    "id": "Bv3bfTnYfO7K"
   },
   "outputs": [],
   "source": [
    "X = data.iloc[:, :-1].to_numpy()\n",
    "y = data.iloc[:, -1].to_numpy()"
   ]
  },
  {
   "cell_type": "code",
   "execution_count": 0,
   "metadata": {
    "colab": {},
    "colab_type": "code",
    "id": "rNk3lSzJffvz"
   },
   "outputs": [],
   "source": [
    "X_train, X_test, y_train, y_test = train_test_split(X, y, test_size=0.2, random_state=42)"
   ]
  },
  {
   "cell_type": "code",
   "execution_count": 0,
   "metadata": {
    "colab": {},
    "colab_type": "code",
    "id": "DEfl6pSJAG1a"
   },
   "outputs": [],
   "source": [
    "tf.keras.backend.clear_session()\n",
    "model = tf.keras.models.Sequential([\n",
    "    tf.keras.layers.Dense(256, activation='relu', input_shape = (X_train.shape[1],)),\n",
    "    tf.keras.layers.Dense(128, activation='relu'),\n",
    "    tf.keras.layers.Dense(64, activation='relu'),\n",
    "      tf.keras.layers.Dense(10, activation='softmax')\n",
    "])"
   ]
  },
  {
   "cell_type": "code",
   "execution_count": 0,
   "metadata": {
    "colab": {},
    "colab_type": "code",
    "id": "KWKpG8f3AKNJ"
   },
   "outputs": [],
   "source": [
    "model.compile(optimizer='adam',\n",
    "              loss='sparse_categorical_crossentropy',\n",
    "              metrics=['accuracy'])"
   ]
  },
  {
   "cell_type": "code",
   "execution_count": 10,
   "metadata": {
    "colab": {
     "base_uri": "https://localhost:8080/",
     "height": 374
    },
    "colab_type": "code",
    "id": "MXloofzJALs5",
    "outputId": "29a9d43b-366c-4a74-f60d-b13a951cff38"
   },
   "outputs": [
    {
     "name": "stdout",
     "output_type": "stream",
     "text": [
      "Epoch 1/10\n",
      "16/16 [==============================] - 0s 3ms/step - loss: 2.3926 - accuracy: 0.1825\n",
      "Epoch 2/10\n",
      "16/16 [==============================] - 0s 3ms/step - loss: 1.5669 - accuracy: 0.5406\n",
      "Epoch 3/10\n",
      "16/16 [==============================] - 0s 3ms/step - loss: 0.9701 - accuracy: 0.8231\n",
      "Epoch 4/10\n",
      "16/16 [==============================] - 0s 3ms/step - loss: 0.6104 - accuracy: 0.9087\n",
      "Epoch 5/10\n",
      "16/16 [==============================] - 0s 3ms/step - loss: 0.3798 - accuracy: 0.9569\n",
      "Epoch 6/10\n",
      "16/16 [==============================] - 0s 3ms/step - loss: 0.2384 - accuracy: 0.9769\n",
      "Epoch 7/10\n",
      "16/16 [==============================] - 0s 3ms/step - loss: 0.1527 - accuracy: 0.9887\n",
      "Epoch 8/10\n",
      "16/16 [==============================] - 0s 3ms/step - loss: 0.0964 - accuracy: 0.9969\n",
      "Epoch 9/10\n",
      "16/16 [==============================] - 0s 3ms/step - loss: 0.0776 - accuracy: 0.9950\n",
      "Epoch 10/10\n",
      "16/16 [==============================] - 0s 3ms/step - loss: 0.0631 - accuracy: 0.9944\n"
     ]
    },
    {
     "data": {
      "text/plain": [
       "<tensorflow.python.keras.callbacks.History at 0x7fbb5175cba8>"
      ]
     },
     "execution_count": 10,
     "metadata": {
      "tags": []
     },
     "output_type": "execute_result"
    }
   ],
   "source": [
    "model.fit(X_train, y_train, epochs=10, batch_size=100)"
   ]
  },
  {
   "cell_type": "code",
   "execution_count": 11,
   "metadata": {
    "colab": {
     "base_uri": "https://localhost:8080/",
     "height": 68
    },
    "colab_type": "code",
    "id": "lnjRh3cNE7Ta",
    "outputId": "5655d39b-0c0c-4238-d761-b507593a81f6"
   },
   "outputs": [
    {
     "name": "stdout",
     "output_type": "stream",
     "text": [
      "13/13 [==============================] - 0s 2ms/step - loss: 0.0737 - accuracy: 0.9875\n",
      "accuracy:  0.987500011920929 \n",
      "loss:  0.0736774280667305\n"
     ]
    }
   ],
   "source": [
    "test_loss, test_acc = model.evaluate(X_test,y_test)\n",
    "print('accuracy: ',test_acc,'\\nloss: ',test_loss)"
   ]
  }
 ],
 "metadata": {
  "accelerator": "GPU",
  "colab": {
   "collapsed_sections": [],
   "name": "speech-recognition-image.ipynb",
   "provenance": []
  },
  "kernelspec": {
   "display_name": "Python 3.8.2 32-bit",
   "language": "python",
   "name": "python38232bita2e76e128497477faefb26332944c50b"
  },
  "language_info": {
   "codemirror_mode": {
    "name": "ipython",
    "version": 3
   },
   "file_extension": ".py",
   "mimetype": "text/x-python",
   "name": "python",
   "nbconvert_exporter": "python",
   "pygments_lexer": "ipython3",
   "version": "3.8.2"
  }
 },
 "nbformat": 4,
 "nbformat_minor": 1
}
