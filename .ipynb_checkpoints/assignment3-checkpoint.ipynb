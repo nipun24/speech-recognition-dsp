{
 "cells": [
  {
   "cell_type": "markdown",
   "metadata": {},
   "source": [
    "# DSP Assignment\n",
    "Name: Nipun Haldar\n",
    "\n",
    "Roll Number: ECE16U014\n",
    "\n",
    "\n",
    "**Note: The following code was run on *Google Colab* to get fast compile times**"
   ]
  },
  {
   "cell_type": "markdown",
   "metadata": {},
   "source": [
    "### Importing the required libraries"
   ]
  },
  {
   "cell_type": "code",
   "execution_count": 0,
   "metadata": {
    "colab": {},
    "colab_type": "code",
    "id": "huB8LEP4FJzN"
   },
   "outputs": [],
   "source": [
    "# libraries to handle data\n",
    "import os\n",
    "import numpy as np\n",
    "import csv\n",
    "import pandas as pd\n",
    "\n",
    "# library to extract audio features\n",
    "import librosa\n",
    "\n",
    "# libraries for preprocessing data \n",
    "from sklearn.preprocessing import StandardScaler\n",
    "from sklearn.model_selection import train_test_split\n",
    "\n",
    "# library to build neural networks\n",
    "import tensorflow as tf"
   ]
  },
  {
   "cell_type": "markdown",
   "metadata": {},
   "source": [
    "### Extracting all features from audio and writing to csv file\n",
    "\n",
    "The following features are extracted\n",
    "* Mel-frequency cepstral coefficients (MFCC)(20 in number)\n",
    "* Spectral Centroid\n",
    "* Zero Crossing Rate\n",
    "* Chroma Frequencies\n",
    "* Spectral Roll-off\n",
    "* Root-Mean Square Energy\n",
    "\n",
    "The correspong **data.csv** has 2000 rows and 27 columns of all the features"
   ]
  },
  {
   "cell_type": "code",
   "execution_count": 0,
   "metadata": {
    "colab": {},
    "colab_type": "code",
    "id": "sxCoP5-MFg8p"
   },
   "outputs": [],
   "source": [
    "if os.path.exists('/content/drive/My Drive/data.csv'):\n",
    "    df = pd.read_csv('data.csv')\n",
    "\n",
    "else:\n",
    "    cols = ['filename','chroma_stft','rms','spectral_centroid','spectral_bandwidth','rolloff','zero_crossing_rate']\n",
    "    for i in range(20):\n",
    "        cols.append(f'mfcc_{i}')\n",
    "    cols.append('label')\n",
    "    f = open('data.csv','w',newline='')\n",
    "    writer = csv.writer(f)\n",
    "    writer.writerow(cols)\n",
    "    f.close()\n",
    "    \n",
    "    for i in range(10):\n",
    "        path = f'/content/drive/My Drive/wavs/{i}'\n",
    "        fileList = os.listdir(path)\n",
    "        for j in fileList:\n",
    "            y, sr = librosa.load(f'{path}/{j}', mono=True)\n",
    "            chroma_stft = librosa.feature.chroma_stft(y=y, sr=sr)\n",
    "            rms = librosa.feature.rms(y)\n",
    "            spec_cent = librosa.feature.spectral_centroid(y=y, sr=sr)\n",
    "            spec_bw = librosa.feature.spectral_bandwidth(y=y, sr=sr)\n",
    "            rolloff = librosa.feature.spectral_rolloff(y=y, sr=sr)\n",
    "            zcr = librosa.feature.zero_crossing_rate(y)\n",
    "            mfcc = librosa.feature.mfcc(y=y, sr=sr)\n",
    "            row = [f'{j}',np.mean(chroma_stft),np.mean(rms),np.mean(spec_cent),np.mean(spec_bw),np.mean(rolloff),np.mean(zcr)]\n",
    "            for val in range(20):\n",
    "                row.append(np.mean(mfcc[val]))\n",
    "            row.append(i)\n",
    "            f = open('data.csv','a',newline='')\n",
    "            writer = csv.writer(f)\n",
    "            writer.writerow(row)\n",
    "            f.close()"
   ]
  },
  {
   "cell_type": "markdown",
   "metadata": {},
   "source": [
    "### Reading the csv file using pandas"
   ]
  },
  {
   "cell_type": "code",
   "execution_count": 0,
   "metadata": {
    "colab": {},
    "colab_type": "code",
    "id": "JhWWVxgXGABw"
   },
   "outputs": [],
   "source": [
    "data = pd.read_csv('data.csv')\n",
    "data = data.drop(['filename'],axis=1)"
   ]
  },
  {
   "cell_type": "markdown",
   "metadata": {},
   "source": [
    "### Visualizing the data using pandas"
   ]
  },
  {
   "cell_type": "code",
   "execution_count": 0,
   "metadata": {
    "colab": {},
    "colab_type": "code",
    "id": "LRxxrzPgOghc"
   },
   "outputs": [],
   "source": [
    "scaler = StandardScaler()\n",
    "X = scaler.fit_transform(data.iloc[:, :-1])"
   ]
  },
  {
   "cell_type": "code",
   "execution_count": 0,
   "metadata": {
    "colab": {},
    "colab_type": "code",
    "id": "nb85ZZptOj4k"
   },
   "outputs": [],
   "source": [
    "y = data.iloc[:,-1].to_numpy()"
   ]
  },
  {
   "cell_type": "code",
   "execution_count": 0,
   "metadata": {
    "colab": {},
    "colab_type": "code",
    "id": "b0tCMxucOnUa"
   },
   "outputs": [],
   "source": [
    "X_train, X_test, y_train, y_test = train_test_split(X, y, test_size=0.2,random_state=42)"
   ]
  },
  {
   "cell_type": "code",
   "execution_count": 0,
   "metadata": {
    "colab": {},
    "colab_type": "code",
    "id": "0uOZcqCOOpkr"
   },
   "outputs": [],
   "source": [
    "tf.keras.backend.clear_session()\n",
    "model = tf.keras.models.Sequential([\n",
    "    tf.keras.layers.Dense(256, activation='relu', input_shape=(X_train.shape[1],)),\n",
    "    tf.keras.layers.Dense(128, activation='relu'),\n",
    "    tf.keras.layers.Dense(64, activation='relu'),\n",
    "    tf.keras.layers.Dense(10, activation='softmax')\n",
    "])"
   ]
  },
  {
   "cell_type": "code",
   "execution_count": 0,
   "metadata": {
    "colab": {},
    "colab_type": "code",
    "id": "lJmEY5DfOroi"
   },
   "outputs": [],
   "source": [
    "model.compile(optimizer='adam',\n",
    "              loss='sparse_categorical_crossentropy',\n",
    "              metrics=['accuracy'])"
   ]
  },
  {
   "cell_type": "code",
   "execution_count": 9,
   "metadata": {
    "colab": {
     "base_uri": "https://localhost:8080/",
     "height": 714
    },
    "colab_type": "code",
    "id": "RMahOdrkPS9z",
    "outputId": "a163bc9e-4e88-46f2-c4c6-e6758f068cea"
   },
   "outputs": [
    {
     "name": "stdout",
     "output_type": "stream",
     "text": [
      "Epoch 1/20\n",
      "16/16 [==============================] - 0s 2ms/step - loss: 1.8149 - accuracy: 0.4975\n",
      "Epoch 2/20\n",
      "16/16 [==============================] - 0s 2ms/step - loss: 0.7986 - accuracy: 0.8813\n",
      "Epoch 3/20\n",
      "16/16 [==============================] - 0s 2ms/step - loss: 0.2503 - accuracy: 0.9669\n",
      "Epoch 4/20\n",
      "16/16 [==============================] - 0s 2ms/step - loss: 0.0882 - accuracy: 0.9925\n",
      "Epoch 5/20\n",
      "16/16 [==============================] - 0s 2ms/step - loss: 0.0430 - accuracy: 0.9962\n",
      "Epoch 6/20\n",
      "16/16 [==============================] - 0s 2ms/step - loss: 0.0253 - accuracy: 1.0000\n",
      "Epoch 7/20\n",
      "16/16 [==============================] - 0s 2ms/step - loss: 0.0176 - accuracy: 1.0000\n",
      "Epoch 8/20\n",
      "16/16 [==============================] - 0s 2ms/step - loss: 0.0131 - accuracy: 1.0000\n",
      "Epoch 9/20\n",
      "16/16 [==============================] - 0s 2ms/step - loss: 0.0103 - accuracy: 1.0000\n",
      "Epoch 10/20\n",
      "16/16 [==============================] - 0s 2ms/step - loss: 0.0083 - accuracy: 1.0000\n",
      "Epoch 11/20\n",
      "16/16 [==============================] - 0s 2ms/step - loss: 0.0069 - accuracy: 1.0000\n",
      "Epoch 12/20\n",
      "16/16 [==============================] - 0s 2ms/step - loss: 0.0057 - accuracy: 1.0000\n",
      "Epoch 13/20\n",
      "16/16 [==============================] - 0s 2ms/step - loss: 0.0047 - accuracy: 1.0000\n",
      "Epoch 14/20\n",
      "16/16 [==============================] - 0s 2ms/step - loss: 0.0040 - accuracy: 1.0000\n",
      "Epoch 15/20\n",
      "16/16 [==============================] - 0s 2ms/step - loss: 0.0035 - accuracy: 1.0000\n",
      "Epoch 16/20\n",
      "16/16 [==============================] - 0s 2ms/step - loss: 0.0031 - accuracy: 1.0000\n",
      "Epoch 17/20\n",
      "16/16 [==============================] - 0s 2ms/step - loss: 0.0027 - accuracy: 1.0000\n",
      "Epoch 18/20\n",
      "16/16 [==============================] - 0s 2ms/step - loss: 0.0024 - accuracy: 1.0000\n",
      "Epoch 19/20\n",
      "16/16 [==============================] - 0s 2ms/step - loss: 0.0022 - accuracy: 1.0000\n",
      "Epoch 20/20\n",
      "16/16 [==============================] - 0s 2ms/step - loss: 0.0020 - accuracy: 1.0000\n"
     ]
    },
    {
     "data": {
      "text/plain": [
       "<tensorflow.python.keras.callbacks.History at 0x7fe820277198>"
      ]
     },
     "execution_count": 9,
     "metadata": {
      "tags": []
     },
     "output_type": "execute_result"
    }
   ],
   "source": [
    "model.fit(X_train, y_train, epochs=20, batch_size=100)"
   ]
  },
  {
   "cell_type": "code",
   "execution_count": 10,
   "metadata": {
    "colab": {
     "base_uri": "https://localhost:8080/",
     "height": 68
    },
    "colab_type": "code",
    "id": "8MJbZ3GTPz0F",
    "outputId": "d3b2881b-6260-45a1-b025-2ca235297c5b"
   },
   "outputs": [
    {
     "name": "stdout",
     "output_type": "stream",
     "text": [
      "13/13 [==============================] - 0s 2ms/step - loss: 0.0153 - accuracy: 0.9975\n",
      "accuracy:  0.9975000023841858 \n",
      "loss:  0.015278777107596397\n"
     ]
    }
   ],
   "source": [
    "test_loss, test_acc = model.evaluate(X_test,y_test)\n",
    "print('accuracy: ',test_acc,'\\nloss: ',test_loss)"
   ]
  },
  {
   "cell_type": "code",
   "execution_count": 11,
   "metadata": {
    "colab": {
     "base_uri": "https://localhost:8080/",
     "height": 51
    },
    "colab_type": "code",
    "id": "ykCHTvskQXMr",
    "outputId": "5b41dd36-9fb7-4f6e-a0b1-2993a206efa7"
   },
   "outputs": [
    {
     "name": "stdout",
     "output_type": "stream",
     "text": [
      "predicted value:  6 \n",
      "actial value:  6\n"
     ]
    }
   ],
   "source": [
    "predictions = model.predict(X_test)\n",
    "pred = np.argmax(predictions[4])\n",
    "actual = y_test[4]\n",
    "print('predicted value: ',pred,'\\nactial value: ',actual)"
   ]
  }
 ],
 "metadata": {
  "accelerator": "GPU",
  "colab": {
   "name": "Untitled14.ipynb",
   "provenance": []
  },
  "kernelspec": {
   "display_name": "Python 3",
   "language": "python",
   "name": "python3"
  },
  "language_info": {
   "codemirror_mode": {
    "name": "ipython",
    "version": 3
   },
   "file_extension": ".py",
   "mimetype": "text/x-python",
   "name": "python",
   "nbconvert_exporter": "python",
   "pygments_lexer": "ipython3",
   "version": "3.8.2"
  }
 },
 "nbformat": 4,
 "nbformat_minor": 1
}
